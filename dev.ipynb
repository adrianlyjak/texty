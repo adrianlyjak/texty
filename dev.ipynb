{
 "cells": [
  {
   "cell_type": "code",
   "execution_count": 1,
   "metadata": {},
   "outputs": [
    {
     "name": "stdout",
     "output_type": "stream",
     "text": [
      "Please answer the following question following the examples\n",
      "\n",
      "Examples\n",
      "--------\n",
      "\n",
      "Q: 2+2=?\n",
      "A: 4\n",
      "\n",
      "Q: 3+3=?\n",
      "A: 6\n",
      "\n",
      "Question\n",
      "--------\n",
      "\n",
      "Q: 4+4 = ?\n",
      "A:\n"
     ]
    }
   ],
   "source": [
    "import outlines\n",
    "\n",
    "@outlines.prompt\n",
    "def few_shots(instructions, examples, question):\n",
    "    \"\"\"{{ instructions }}\n",
    "\n",
    "    Examples\n",
    "    --------\n",
    "\n",
    "    {% for example in examples %}\n",
    "    Q: {{ example.question }}\n",
    "    A: {{ example.answer }}\n",
    "\n",
    "    {% endfor %}\n",
    "    Question\n",
    "    --------\n",
    "\n",
    "    Q: {{ question }}\n",
    "    A:\n",
    "    \"\"\"\n",
    "\n",
    "instructions = \"Please answer the following question following the examples\"\n",
    "examples = [\n",
    "    {\"question\": \"2+2=?\", \"answer\":4},\n",
    "    {\"question\": \"3+3=?\", \"answer\":6}\n",
    "]\n",
    "question = \"4+4 = ?\"\n",
    "\n",
    "prompt = few_shots(instructions, examples, question)\n",
    "print(prompt)"
   ]
  },
  {
   "cell_type": "code",
   "execution_count": 1,
   "metadata": {},
   "outputs": [],
   "source": [
    "from sqlite_utils import Database\n",
    "from fastlite import *\n",
    "from fastcore.utils import *\n",
    "from fastcore.net import urlsave"
   ]
  },
  {
   "cell_type": "code",
   "execution_count": 6,
   "metadata": {},
   "outputs": [
    {
     "name": "stdout",
     "output_type": "stream",
     "text": [
      "messages\n"
     ]
    }
   ],
   "source": [
    "db = Database(\"hello.sqlite\")\n",
    "db.execute(\"CREATE TABLE IF NOT EXISTS \")\n",
    "# print(db.t)"
   ]
  },
  {
   "cell_type": "code",
   "execution_count": null,
   "metadata": {},
   "outputs": [],
   "source": []
  }
 ],
 "metadata": {
  "kernelspec": {
   "display_name": ".venv",
   "language": "python",
   "name": "python3"
  },
  "language_info": {
   "codemirror_mode": {
    "name": "ipython",
    "version": 3
   },
   "file_extension": ".py",
   "mimetype": "text/x-python",
   "name": "python",
   "nbconvert_exporter": "python",
   "pygments_lexer": "ipython3",
   "version": "3.11.8"
  }
 },
 "nbformat": 4,
 "nbformat_minor": 2
}
